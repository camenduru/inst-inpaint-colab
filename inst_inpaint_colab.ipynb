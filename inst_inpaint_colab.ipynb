{
  "cells": [
    {
      "cell_type": "markdown",
      "metadata": {
        "id": "view-in-github"
      },
      "source": [
        "[![Open In Colab](https://colab.research.google.com/assets/colab-badge.svg)](https://colab.research.google.com/github/camenduru/inst-inpaint-colab/blob/main/inst_inpaint_colab.ipynb)"
      ]
    },
    {
      "cell_type": "code",
      "execution_count": null,
      "metadata": {
        "id": "VjYy0F2gZIPR"
      },
      "outputs": [],
      "source": [
        "%cd /content\n",
        "!git clone -b dev https://github.com/camenduru/inst-inpaint-hf\n",
        "\n",
        "!apt -y install -qq aria2\n",
        "!aria2c --console-log-level=error -c -x 16 -s 16 -k 1M https://huggingface.co/camenduru/inst-inpaint/resolve/main/gqa_inpaint.zip -d /content/inst-inpaint-hf/models -o gqa_inpaint.zip\n",
        "\n",
        "from zipfile import ZipFile\n",
        "with ZipFile(\"/content/inst-inpaint-hf/models/gqa_inpaint.zip\", 'r') as zObject:\n",
        "    zObject.extractall(path=\"/content/inst-inpaint-hf/models/\")\n",
        "\n",
        "%cd /content/inst-inpaint-hf\n",
        "!python app.py"
      ]
    }
  ],
  "metadata": {
    "accelerator": "GPU",
    "colab": {
      "gpuType": "T4",
      "provenance": []
    },
    "kernelspec": {
      "display_name": "Python 3",
      "name": "python3"
    },
    "language_info": {
      "name": "python"
    }
  },
  "nbformat": 4,
  "nbformat_minor": 0
}
